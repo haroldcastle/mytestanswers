{
 "cells": [
  {
   "cell_type": "markdown",
   "id": "64153221",
   "metadata": {},
   "source": [
    "# Answer to the Seedbox Technical Test - By Harold Castillo"
   ]
  },
  {
   "cell_type": "markdown",
   "id": "7898f052",
   "metadata": {},
   "source": [
    "## Importing Libraries"
   ]
  },
  {
   "cell_type": "code",
   "execution_count": null,
   "id": "b32d98f5",
   "metadata": {},
   "outputs": [],
   "source": [
    "##Importing pandas (to provide indexing structure and data manipulation functionality) \n",
    "##Numpy (for any mathematical operation)\n",
    "##and matplotlib (to create plots and improve visualization of the data analysis)  "
   ]
  },
  {
   "cell_type": "code",
   "execution_count": 6,
   "id": "13bf19e4",
   "metadata": {},
   "outputs": [],
   "source": [
    "import pandas as pd \n",
    "import numpy as np\n",
    "%matplotlib inline\n",
    "import matplotlib.pyplot as plt"
   ]
  },
  {
   "cell_type": "markdown",
   "id": "559321f8",
   "metadata": {},
   "source": [
    "##### Reading data"
   ]
  },
  {
   "cell_type": "code",
   "execution_count": 8,
   "id": "b98de722",
   "metadata": {},
   "outputs": [],
   "source": [
    "test = pd.read_csv (\"testSamples.csv\")\n",
    "trans = pd.read_csv (\"transData.csv\")"
   ]
  },
  {
   "cell_type": "markdown",
   "id": "587fb7bf",
   "metadata": {},
   "source": [
    "##### Examine data"
   ]
  },
  {
   "cell_type": "markdown",
   "id": "928cca9f",
   "metadata": {},
   "source": [
    "###### File 1 - testSamples - List of unique users in the A/B test"
   ]
  },
  {
   "cell_type": "code",
   "execution_count": 9,
   "id": "794a8097",
   "metadata": {},
   "outputs": [
    {
     "data": {
      "text/html": [
       "<div>\n",
       "<style scoped>\n",
       "    .dataframe tbody tr th:only-of-type {\n",
       "        vertical-align: middle;\n",
       "    }\n",
       "\n",
       "    .dataframe tbody tr th {\n",
       "        vertical-align: top;\n",
       "    }\n",
       "\n",
       "    .dataframe thead th {\n",
       "        text-align: right;\n",
       "    }\n",
       "</style>\n",
       "<table border=\"1\" class=\"dataframe\">\n",
       "  <thead>\n",
       "    <tr style=\"text-align: right;\">\n",
       "      <th></th>\n",
       "      <th>sample_id</th>\n",
       "      <th>test_group</th>\n",
       "    </tr>\n",
       "  </thead>\n",
       "  <tbody>\n",
       "    <tr>\n",
       "      <th>count</th>\n",
       "      <td>59721.00000</td>\n",
       "      <td>59721.000000</td>\n",
       "    </tr>\n",
       "    <tr>\n",
       "      <th>mean</th>\n",
       "      <td>29861.00000</td>\n",
       "      <td>0.248405</td>\n",
       "    </tr>\n",
       "    <tr>\n",
       "      <th>std</th>\n",
       "      <td>17240.11205</td>\n",
       "      <td>0.432092</td>\n",
       "    </tr>\n",
       "    <tr>\n",
       "      <th>min</th>\n",
       "      <td>1.00000</td>\n",
       "      <td>0.000000</td>\n",
       "    </tr>\n",
       "    <tr>\n",
       "      <th>25%</th>\n",
       "      <td>14931.00000</td>\n",
       "      <td>0.000000</td>\n",
       "    </tr>\n",
       "    <tr>\n",
       "      <th>50%</th>\n",
       "      <td>29861.00000</td>\n",
       "      <td>0.000000</td>\n",
       "    </tr>\n",
       "    <tr>\n",
       "      <th>75%</th>\n",
       "      <td>44791.00000</td>\n",
       "      <td>0.000000</td>\n",
       "    </tr>\n",
       "    <tr>\n",
       "      <th>max</th>\n",
       "      <td>59721.00000</td>\n",
       "      <td>1.000000</td>\n",
       "    </tr>\n",
       "  </tbody>\n",
       "</table>\n",
       "</div>"
      ],
      "text/plain": [
       "         sample_id    test_group\n",
       "count  59721.00000  59721.000000\n",
       "mean   29861.00000      0.248405\n",
       "std    17240.11205      0.432092\n",
       "min        1.00000      0.000000\n",
       "25%    14931.00000      0.000000\n",
       "50%    29861.00000      0.000000\n",
       "75%    44791.00000      0.000000\n",
       "max    59721.00000      1.000000"
      ]
     },
     "execution_count": 9,
     "metadata": {},
     "output_type": "execute_result"
    }
   ],
   "source": [
    "# test.shape ##checking for dimensions (rows and columns match initial description before loading data)\n",
    "# test.dtypes ##checking for data types\n",
    "# test.columns ##checking column names\n",
    "# test.head(100) ##checking the headers and the data as well\n",
    "test.describe() ##Look at the summary info\n",
    "##Checking for unique and duplicated values and their frequency\n",
    "# test[[\"test_group\"]]\n",
    "# len(test[\"test_group\"].unique())\n",
    "# test[\"test_group\"].nunique()\n",
    "# test[\"test_group\"].unique() \n",
    "# test[\"test_group\"].value_counts()"
   ]
  },
  {
   "cell_type": "code",
   "execution_count": 112,
   "id": "cbacf687",
   "metadata": {},
   "outputs": [
    {
     "data": {
      "text/plain": [
       "0    44886\n",
       "1    14835\n",
       "Name: test_group, dtype: int64"
      ]
     },
     "execution_count": 112,
     "metadata": {},
     "output_type": "execute_result"
    }
   ],
   "source": [
    "test[\"sample_id\"].value_counts()\n",
    "test[\"test_group\"].value_counts()"
   ]
  },
  {
   "cell_type": "code",
   "execution_count": 118,
   "id": "752aacb9",
   "metadata": {},
   "outputs": [
    {
     "data": {
      "text/plain": [
       "0.751594916361079"
      ]
     },
     "execution_count": 118,
     "metadata": {},
     "output_type": "execute_result"
    }
   ],
   "source": [
    "test['test_group'].value_counts().loc[0]/len(test[\"sample_id\"].value_counts())"
   ]
  },
  {
   "cell_type": "code",
   "execution_count": 119,
   "id": "c9af0adc",
   "metadata": {},
   "outputs": [
    {
     "data": {
      "text/plain": [
       "0.24840508363892097"
      ]
     },
     "execution_count": 119,
     "metadata": {},
     "output_type": "execute_result"
    }
   ],
   "source": [
    "test['test_group'].value_counts().loc[1]/len(test[\"sample_id\"].value_counts())"
   ]
  },
  {
   "cell_type": "code",
   "execution_count": 120,
   "id": "a7511489",
   "metadata": {},
   "outputs": [
    {
     "data": {
      "text/plain": [
       "array([[<AxesSubplot:title={'center':'test_group'}>]], dtype=object)"
      ]
     },
     "execution_count": 120,
     "metadata": {},
     "output_type": "execute_result"
    },
    {
     "data": {
      "image/png": "[encoded data removed]",
      "text/plain": [
       "<Figure size 432x288 with 1 Axes>"
      ]
     },
     "metadata": {
      "needs_background": "light"
     },
     "output_type": "display_data"
    }
   ],
   "source": [
    "#Try simple histogram from pandas for visualization\n",
    "test.hist(column='test_group', bins=25, grid=True, figsize=(6,4), color='#000000', zorder=8, rwidth=2)"
   ]
  },
  {
   "cell_type": "code",
   "execution_count": 152,
   "id": "1d5eb57b",
   "metadata": {},
   "outputs": [
    {
     "name": "stdout",
     "output_type": "stream",
     "text": [
      "test_group\n",
      "0    44886\n",
      "1    14835\n",
      "Name: sample_id, dtype: int64\n"
     ]
    }
   ],
   "source": [
    "#### Preliminary Overview\n",
    "#Number of Members by Testing Group - We have a 75/25 population distribution between control and test group\n",
    "numgroup=test.groupby(['test_group'])['sample_id'].nunique()\n",
    "print(numgroup)"
   ]
  },
  {
   "cell_type": "code",
   "execution_count": 11,
   "id": "5a033847",
   "metadata": {},
   "outputs": [
    {
     "data": {
      "text/html": [
       "<div>\n",
       "<style scoped>\n",
       "    .dataframe tbody tr th:only-of-type {\n",
       "        vertical-align: middle;\n",
       "    }\n",
       "\n",
       "    .dataframe tbody tr th {\n",
       "        vertical-align: top;\n",
       "    }\n",
       "\n",
       "    .dataframe thead th {\n",
       "        text-align: right;\n",
       "    }\n",
       "</style>\n",
       "<table border=\"1\" class=\"dataframe\">\n",
       "  <thead>\n",
       "    <tr style=\"text-align: right;\">\n",
       "      <th></th>\n",
       "      <th>sample_id</th>\n",
       "      <th>test_group</th>\n",
       "    </tr>\n",
       "  </thead>\n",
       "  <tbody>\n",
       "    <tr>\n",
       "      <th>0</th>\n",
       "      <td>False</td>\n",
       "      <td>False</td>\n",
       "    </tr>\n",
       "    <tr>\n",
       "      <th>1</th>\n",
       "      <td>False</td>\n",
       "      <td>False</td>\n",
       "    </tr>\n",
       "    <tr>\n",
       "      <th>2</th>\n",
       "      <td>False</td>\n",
       "      <td>False</td>\n",
       "    </tr>\n",
       "    <tr>\n",
       "      <th>3</th>\n",
       "      <td>False</td>\n",
       "      <td>False</td>\n",
       "    </tr>\n",
       "    <tr>\n",
       "      <th>4</th>\n",
       "      <td>False</td>\n",
       "      <td>False</td>\n",
       "    </tr>\n",
       "    <tr>\n",
       "      <th>...</th>\n",
       "      <td>...</td>\n",
       "      <td>...</td>\n",
       "    </tr>\n",
       "    <tr>\n",
       "      <th>59716</th>\n",
       "      <td>False</td>\n",
       "      <td>False</td>\n",
       "    </tr>\n",
       "    <tr>\n",
       "      <th>59717</th>\n",
       "      <td>False</td>\n",
       "      <td>False</td>\n",
       "    </tr>\n",
       "    <tr>\n",
       "      <th>59718</th>\n",
       "      <td>False</td>\n",
       "      <td>False</td>\n",
       "    </tr>\n",
       "    <tr>\n",
       "      <th>59719</th>\n",
       "      <td>False</td>\n",
       "      <td>False</td>\n",
       "    </tr>\n",
       "    <tr>\n",
       "      <th>59720</th>\n",
       "      <td>False</td>\n",
       "      <td>False</td>\n",
       "    </tr>\n",
       "  </tbody>\n",
       "</table>\n",
       "<p>59721 rows × 2 columns</p>\n",
       "</div>"
      ],
      "text/plain": [
       "       sample_id  test_group\n",
       "0          False       False\n",
       "1          False       False\n",
       "2          False       False\n",
       "3          False       False\n",
       "4          False       False\n",
       "...          ...         ...\n",
       "59716      False       False\n",
       "59717      False       False\n",
       "59718      False       False\n",
       "59719      False       False\n",
       "59720      False       False\n",
       "\n",
       "[59721 rows x 2 columns]"
      ]
     },
     "execution_count": 11,
     "metadata": {},
     "output_type": "execute_result"
    }
   ],
   "source": [
    "test.isnull()"
   ]
  },
  {
   "cell_type": "markdown",
   "id": "082de323",
   "metadata": {},
   "source": [
    "###### File 2 - transData - List of transactions"
   ]
  },
  {
   "cell_type": "code",
   "execution_count": null,
   "id": "77226a4e",
   "metadata": {},
   "outputs": [],
   "source": [
    "# trans.shape ##checking for dimensions (rows and columns match initial description before loading data)\n",
    "# trans.dtypes ##checking for data types\n",
    "# trans.columns ##checking column names\n",
    "# trans.head(100) ##checking the headers and the data as well\n",
    "# trans.describe() ##Look at the summary info\n",
    "# ##Checking for unique and duplicated values and their frequency\n",
    "# trans[[\"transaction_id\"]]\n",
    "# len(trans[\"transaction_type\"].unique())\n",
    "# trans[\"transaction_type\"].nunique()\n",
    "# trans[\"transaction_type\"].unique() \n",
    "# trans[\"transaction_type\"].value_counts()\n",
    "# trans.info()"
   ]
  },
  {
   "cell_type": "code",
   "execution_count": 146,
   "id": "56a0dde2",
   "metadata": {},
   "outputs": [
    {
     "data": {
      "text/plain": [
       "(7430, 4)"
      ]
     },
     "execution_count": 146,
     "metadata": {},
     "output_type": "execute_result"
    }
   ],
   "source": [
    "trans.shape ##checking for dimensions (rows and columns match initial description before loading data)"
   ]
  },
  {
   "cell_type": "code",
   "execution_count": 12,
   "id": "9957f2c0",
   "metadata": {},
   "outputs": [
    {
     "data": {
      "text/plain": [
       "5493     22\n",
       "11424    19\n",
       "50361    18\n",
       "24907    18\n",
       "31411    18\n",
       "         ..\n",
       "27960     1\n",
       "27943     1\n",
       "27942     1\n",
       "27938     1\n",
       "59694     1\n",
       "Name: sample_id, Length: 2714, dtype: int64"
      ]
     },
     "execution_count": 12,
     "metadata": {},
     "output_type": "execute_result"
    }
   ],
   "source": [
    "trans[\"sample_id\"].value_counts()"
   ]
  },
  {
   "cell_type": "code",
   "execution_count": 122,
   "id": "b3e38544",
   "metadata": {},
   "outputs": [
    {
     "data": {
      "text/plain": [
       "2714"
      ]
     },
     "execution_count": 122,
     "metadata": {},
     "output_type": "execute_result"
    }
   ],
   "source": [
    "#Checking duplicates - Several subscribers have more than one transaction - What is the proportion between control and st group?\n",
    "trans[\"sample_id\"].nunique()"
   ]
  },
  {
   "cell_type": "code",
   "execution_count": null,
   "id": "d81e8a91",
   "metadata": {},
   "outputs": [],
   "source": [
    "#trans.dtypes ##checking new data type\n",
    "trans.info()"
   ]
  },
  {
   "cell_type": "code",
   "execution_count": null,
   "id": "3c869151",
   "metadata": {},
   "outputs": [],
   "source": [
    "trans.isnull()"
   ]
  },
  {
   "cell_type": "code",
   "execution_count": 13,
   "id": "e416b963",
   "metadata": {},
   "outputs": [
    {
     "data": {
      "text/plain": [
       "transaction_id        0\n",
       "sample_id             0\n",
       "transaction_type      0\n",
       "transaction_amount    0\n",
       "dtype: int64"
      ]
     },
     "execution_count": 13,
     "metadata": {},
     "output_type": "execute_result"
    }
   ],
   "source": [
    "trans.isnull().sum()"
   ]
  },
  {
   "cell_type": "markdown",
   "id": "e9fcaa56",
   "metadata": {},
   "source": [
    "###### Join - testSample & transData - Creating a DataFrame"
   ]
  },
  {
   "cell_type": "code",
   "execution_count": 14,
   "id": "28ea2dd3",
   "metadata": {},
   "outputs": [],
   "source": [
    "# Performed an inner join to capture the subscribers from the main sample list whose transactions wer recorded\n",
    "master = pd.merge(trans, test, on='sample_id', how='inner')"
   ]
  },
  {
   "cell_type": "code",
   "execution_count": 62,
   "id": "ddf1a840",
   "metadata": {},
   "outputs": [
    {
     "name": "stdout",
     "output_type": "stream",
     "text": [
      "<class 'pandas.core.frame.DataFrame'>\n",
      "Int64Index: 7430 entries, 0 to 7429\n",
      "Data columns (total 7 columns):\n",
      " #   Column              Non-Null Count  Dtype  \n",
      "---  ------              --------------  -----  \n",
      " 0   transaction_id      7430 non-null   int64  \n",
      " 1   sample_id           7430 non-null   int64  \n",
      " 2   transaction_type    7430 non-null   object \n",
      " 3   transaction_amount  7430 non-null   float64\n",
      " 4   test_group          7430 non-null   int64  \n",
      " 5   AB_Group            7430 non-null   object \n",
      " 6   Rebilled_Or_not     7430 non-null   uint8  \n",
      "dtypes: float64(1), int64(3), object(2), uint8(1)\n",
      "memory usage: 413.6+ KB\n"
     ]
    },
    {
     "data": {
      "text/html": [
       "<div>\n",
       "<style scoped>\n",
       "    .dataframe tbody tr th:only-of-type {\n",
       "        vertical-align: middle;\n",
       "    }\n",
       "\n",
       "    .dataframe tbody tr th {\n",
       "        vertical-align: top;\n",
       "    }\n",
       "\n",
       "    .dataframe thead th {\n",
       "        text-align: right;\n",
       "    }\n",
       "</style>\n",
       "<table border=\"1\" class=\"dataframe\">\n",
       "  <thead>\n",
       "    <tr style=\"text-align: right;\">\n",
       "      <th></th>\n",
       "      <th>transaction_id</th>\n",
       "      <th>sample_id</th>\n",
       "      <th>transaction_type</th>\n",
       "      <th>transaction_amount</th>\n",
       "      <th>test_group</th>\n",
       "      <th>AB_Group</th>\n",
       "      <th>Rebilled_Or_not</th>\n",
       "    </tr>\n",
       "  </thead>\n",
       "  <tbody>\n",
       "    <tr>\n",
       "      <th>0</th>\n",
       "      <td>52346326</td>\n",
       "      <td>11</td>\n",
       "      <td>REBILL</td>\n",
       "      <td>24.95</td>\n",
       "      <td>1</td>\n",
       "      <td>B</td>\n",
       "      <td>1</td>\n",
       "    </tr>\n",
       "    <tr>\n",
       "      <th>1</th>\n",
       "      <td>52346327</td>\n",
       "      <td>11</td>\n",
       "      <td>REBILL</td>\n",
       "      <td>24.95</td>\n",
       "      <td>1</td>\n",
       "      <td>B</td>\n",
       "      <td>1</td>\n",
       "    </tr>\n",
       "    <tr>\n",
       "      <th>2</th>\n",
       "      <td>52346328</td>\n",
       "      <td>32</td>\n",
       "      <td>REBILL</td>\n",
       "      <td>29.95</td>\n",
       "      <td>1</td>\n",
       "      <td>B</td>\n",
       "      <td>1</td>\n",
       "    </tr>\n",
       "    <tr>\n",
       "      <th>3</th>\n",
       "      <td>52346329</td>\n",
       "      <td>32</td>\n",
       "      <td>REBILL</td>\n",
       "      <td>29.95</td>\n",
       "      <td>1</td>\n",
       "      <td>B</td>\n",
       "      <td>1</td>\n",
       "    </tr>\n",
       "    <tr>\n",
       "      <th>4</th>\n",
       "      <td>52346330</td>\n",
       "      <td>32</td>\n",
       "      <td>REBILL</td>\n",
       "      <td>29.95</td>\n",
       "      <td>1</td>\n",
       "      <td>B</td>\n",
       "      <td>1</td>\n",
       "    </tr>\n",
       "    <tr>\n",
       "      <th>...</th>\n",
       "      <td>...</td>\n",
       "      <td>...</td>\n",
       "      <td>...</td>\n",
       "      <td>...</td>\n",
       "      <td>...</td>\n",
       "      <td>...</td>\n",
       "      <td>...</td>\n",
       "    </tr>\n",
       "    <tr>\n",
       "      <th>7425</th>\n",
       "      <td>52353751</td>\n",
       "      <td>59654</td>\n",
       "      <td>REBILL</td>\n",
       "      <td>39.95</td>\n",
       "      <td>1</td>\n",
       "      <td>B</td>\n",
       "      <td>1</td>\n",
       "    </tr>\n",
       "    <tr>\n",
       "      <th>7426</th>\n",
       "      <td>52353752</td>\n",
       "      <td>59654</td>\n",
       "      <td>REBILL</td>\n",
       "      <td>39.95</td>\n",
       "      <td>1</td>\n",
       "      <td>B</td>\n",
       "      <td>1</td>\n",
       "    </tr>\n",
       "    <tr>\n",
       "      <th>7427</th>\n",
       "      <td>52353753</td>\n",
       "      <td>59689</td>\n",
       "      <td>REBILL</td>\n",
       "      <td>24.95</td>\n",
       "      <td>0</td>\n",
       "      <td>A</td>\n",
       "      <td>1</td>\n",
       "    </tr>\n",
       "    <tr>\n",
       "      <th>7428</th>\n",
       "      <td>52353754</td>\n",
       "      <td>59689</td>\n",
       "      <td>REBILL</td>\n",
       "      <td>24.95</td>\n",
       "      <td>0</td>\n",
       "      <td>A</td>\n",
       "      <td>1</td>\n",
       "    </tr>\n",
       "    <tr>\n",
       "      <th>7429</th>\n",
       "      <td>52353755</td>\n",
       "      <td>59694</td>\n",
       "      <td>REBILL</td>\n",
       "      <td>24.95</td>\n",
       "      <td>1</td>\n",
       "      <td>B</td>\n",
       "      <td>1</td>\n",
       "    </tr>\n",
       "  </tbody>\n",
       "</table>\n",
       "<p>7430 rows × 7 columns</p>\n",
       "</div>"
      ],
      "text/plain": [
       "      transaction_id  sample_id transaction_type  transaction_amount  \\\n",
       "0           52346326         11           REBILL               24.95   \n",
       "1           52346327         11           REBILL               24.95   \n",
       "2           52346328         32           REBILL               29.95   \n",
       "3           52346329         32           REBILL               29.95   \n",
       "4           52346330         32           REBILL               29.95   \n",
       "...              ...        ...              ...                 ...   \n",
       "7425        52353751      59654           REBILL               39.95   \n",
       "7426        52353752      59654           REBILL               39.95   \n",
       "7427        52353753      59689           REBILL               24.95   \n",
       "7428        52353754      59689           REBILL               24.95   \n",
       "7429        52353755      59694           REBILL               24.95   \n",
       "\n",
       "      test_group AB_Group  Rebilled_Or_not  \n",
       "0              1        B                1  \n",
       "1              1        B                1  \n",
       "2              1        B                1  \n",
       "3              1        B                1  \n",
       "4              1        B                1  \n",
       "...          ...      ...              ...  \n",
       "7425           1        B                1  \n",
       "7426           1        B                1  \n",
       "7427           0        A                1  \n",
       "7428           0        A                1  \n",
       "7429           1        B                1  \n",
       "\n",
       "[7430 rows x 7 columns]"
      ]
     },
     "execution_count": 62,
     "metadata": {},
     "output_type": "execute_result"
    }
   ],
   "source": [
    "# master.shape ##checking for dimensions (rows and columns match initial description before loading data)\n",
    "# master.columns ##checking column names\n",
    "# master.head(1000) ##checking the headers and the data as well\n",
    "# master.describe() ##Look at the summary info\n",
    "##Checking for unique and duplicated values and their frequency\n",
    "# master[[\"test_group\"]]\n",
    "# master(test[\"test_group\"].unique())\n",
    "# masterv[\"test_group\"].nunique()\n",
    "# master[\"test_group\"].unique() \n",
    "# master[\"test_group\"].value_counts()\n",
    "master.info()\n",
    "master"
   ]
  },
  {
   "cell_type": "code",
   "execution_count": 133,
   "id": "87dbc24d",
   "metadata": {},
   "outputs": [
    {
     "data": {
      "text/plain": [
       "(2714, 7430)"
      ]
     },
     "execution_count": 133,
     "metadata": {},
     "output_type": "execute_result"
    }
   ],
   "source": [
    "#Checking for duplicates - Keeping same probability distribution in the sutdy sample?\n",
    "master[\"sample_id\"].nunique(),master[\"sample_id\"].count()"
   ]
  },
  {
   "cell_type": "code",
   "execution_count": 145,
   "id": "0614b8bb",
   "metadata": {},
   "outputs": [
    {
     "data": {
      "text/plain": [
       "array([[<AxesSubplot:title={'center':'test_group'}>]], dtype=object)"
      ]
     },
     "execution_count": 145,
     "metadata": {},
     "output_type": "execute_result"
    },
    {
     "data": {
      "image/png": "[encoded data removed]",
      "text/plain": [
       "<Figure size 864x576 with 1 Axes>"
      ]
     },
     "metadata": {
      "needs_background": "light"
     },
     "output_type": "display_data"
    }
   ],
   "source": [
    "##checking distribution of control and test group - Duplicates or not? - Yes\n",
    "master.hist(column=\"test_group\",bins=5, grid=True, figsize=(12,8), color='#87CEFF', zorder=1, rwidth=4)"
   ]
  },
  {
   "cell_type": "code",
   "execution_count": 136,
   "id": "b5388fe9",
   "metadata": {},
   "outputs": [
    {
     "data": {
      "text/plain": [
       "array([[<AxesSubplot:title={'center':'sample_id'}>]], dtype=object)"
      ]
     },
     "execution_count": 136,
     "metadata": {},
     "output_type": "execute_result"
    },
    {
     "data": {
      "image/png": "[encoded data removed]",
      "text/plain": [
       "<Figure size 864x576 with 1 Axes>"
      ]
     },
     "metadata": {
      "needs_background": "light"
     },
     "output_type": "display_data"
    }
   ],
   "source": [
    "##checking distribution sample_id - Duplicates or not? - Yes\n",
    "master.hist(column=\"sample_id\",bins=1000, grid=True, figsize=(12,8), color='#87CEFF', zorder=1, rwidth=4)"
   ]
  },
  {
   "cell_type": "markdown",
   "id": "84824715",
   "metadata": {},
   "source": [
    "###### Analysis"
   ]
  },
  {
   "cell_type": "code",
   "execution_count": 18,
   "id": "e81cdad0",
   "metadata": {},
   "outputs": [
    {
     "data": {
      "text/plain": [
       "True     4716\n",
       "False    2714\n",
       "Name: sample_id, dtype: int64"
      ]
     },
     "execution_count": 18,
     "metadata": {},
     "output_type": "execute_result"
    }
   ],
   "source": [
    "#searching for duplicates and its meaning\n",
    "master['sample_id'].duplicated().value_counts()"
   ]
  },
  {
   "cell_type": "code",
   "execution_count": 149,
   "id": "295802c6",
   "metadata": {},
   "outputs": [
    {
     "data": {
      "text/plain": [
       "test_group\n",
       "0    1079\n",
       "1    1635\n",
       "Name: sample_id, dtype: int64"
      ]
     },
     "execution_count": 149,
     "metadata": {},
     "output_type": "execute_result"
    }
   ],
   "source": [
    "#Population distribution changed from 75/25 to 40/60 - You have more samples from the test group than control group\n",
    "master.groupby(['test_group'])['sample_id'].nunique()"
   ]
  },
  {
   "cell_type": "code",
   "execution_count": 138,
   "id": "dc43c7bc",
   "metadata": {},
   "outputs": [],
   "source": [
    "#Samples without duplicated sample_id's \n",
    "sample_nd=master.groupby(['transaction_type'])['sample_id'].value_counts()"
   ]
  },
  {
   "cell_type": "code",
   "execution_count": 28,
   "id": "ce82e514",
   "metadata": {},
   "outputs": [
    {
     "data": {
      "text/plain": [
       "transaction_type\n",
       "CHARGEBACK      82\n",
       "REBILL        2497\n",
       "REFUND         146\n",
       "Name: sample_id, dtype: int64"
      ]
     },
     "execution_count": 28,
     "metadata": {},
     "output_type": "execute_result"
    }
   ],
   "source": [
    "sample_nd # Total number of clients"
   ]
  },
  {
   "cell_type": "code",
   "execution_count": 135,
   "id": "eeaa86b2",
   "metadata": {},
   "outputs": [
    {
     "data": {
      "text/plain": [
       "2725"
      ]
     },
     "execution_count": 135,
     "metadata": {},
     "output_type": "execute_result"
    }
   ],
   "source": [
    "sample_nd.sum() # Still counting duplicates"
   ]
  },
  {
   "cell_type": "code",
   "execution_count": 20,
   "id": "c53a1879",
   "metadata": {},
   "outputs": [
    {
     "data": {
      "text/plain": [
       "REBILL        3205\n",
       "REFUND         118\n",
       "CHARGEBACK      57\n",
       "Name: transaction_type, dtype: int64"
      ]
     },
     "execution_count": 20,
     "metadata": {},
     "output_type": "execute_result"
    }
   ],
   "source": [
    "#checking the amount of transactions by type and with or without duplicates  - Test Group\n",
    "# master.groupby(master['test_group']==1)['sample_id'].nunique()\n",
    "# master[master['test_group'] == 1]['transaction_type'].value_counts()\n",
    "# master[master['test_group'] == 1]['transaction_type'].value_counts().loc['REBILL']\n",
    "master[master['test_group'] == 1]['transaction_type'].value_counts()"
   ]
  },
  {
   "cell_type": "code",
   "execution_count": 48,
   "id": "41e54df3",
   "metadata": {},
   "outputs": [
    {
     "data": {
      "text/plain": [
       "transaction_type\n",
       "CHARGEBACK      29\n",
       "REBILL        1556\n",
       "REFUND          58\n",
       "Name: sample_id, dtype: int64"
      ]
     },
     "execution_count": 48,
     "metadata": {},
     "output_type": "execute_result"
    }
   ],
   "source": [
    "master[master['test_group'] == 1].groupby('transaction_type')['sample_id'].nunique()"
   ]
  },
  {
   "cell_type": "code",
   "execution_count": 166,
   "id": "841b702c",
   "metadata": {},
   "outputs": [
    {
     "data": {
      "text/plain": [
       "REBILL        3756\n",
       "REFUND         188\n",
       "CHARGEBACK     106\n",
       "Name: transaction_type, dtype: int64"
      ]
     },
     "execution_count": 166,
     "metadata": {},
     "output_type": "execute_result"
    }
   ],
   "source": [
    "#checking the amount of transactions by type and with or without duplicates  - Control Group\n",
    "master[master['test_group'] == 0]['transaction_type'].value_counts()\n",
    "# master[master['test_group'] == 0]['transaction_type']."
   ]
  },
  {
   "cell_type": "code",
   "execution_count": 178,
   "id": "582db666",
   "metadata": {},
   "outputs": [
    {
     "data": {
      "text/plain": [
       "transaction_type\n",
       "CHARGEBACK     53\n",
       "REBILL        941\n",
       "REFUND         88\n",
       "Name: sample_id, dtype: int64"
      ]
     },
     "execution_count": 178,
     "metadata": {},
     "output_type": "execute_result"
    }
   ],
   "source": [
    "master[master['test_group'] == 0].groupby(['transaction_type'])['sample_id'].nunique()"
   ]
  },
  {
   "cell_type": "code",
   "execution_count": 186,
   "id": "ff4bb61c",
   "metadata": {},
   "outputs": [
    {
     "data": {
      "text/plain": [
       "941"
      ]
     },
     "execution_count": 186,
     "metadata": {},
     "output_type": "execute_result"
    }
   ],
   "source": [
    "#Separating objects to prepare for ratio calculations - Weighing the use of unique counting vs duplicated in both groups\n",
    "len(master[master['test_group'] == 0].groupby([\"transaction_type\"])['sample_id'].value_counts().loc['REBILL'])"
   ]
  },
  {
   "cell_type": "code",
   "execution_count": 184,
   "id": "10217f50",
   "metadata": {},
   "outputs": [
    {
     "data": {
      "text/plain": [
       "53"
      ]
     },
     "execution_count": 184,
     "metadata": {},
     "output_type": "execute_result"
    }
   ],
   "source": [
    "len(master[master['test_group'] == 0].groupby([\"transaction_type\"])['sample_id'].value_counts().loc['CHARGEBACK'])"
   ]
  },
  {
   "cell_type": "code",
   "execution_count": 187,
   "id": "ca9f17cd",
   "metadata": {},
   "outputs": [
    {
     "data": {
      "text/plain": [
       "88"
      ]
     },
     "execution_count": 187,
     "metadata": {},
     "output_type": "execute_result"
    }
   ],
   "source": [
    "len(master[master['test_group'] == 0].groupby([\"transaction_type\"])['sample_id'].value_counts().loc['REFUND'])"
   ]
  },
  {
   "cell_type": "code",
   "execution_count": 190,
   "id": "de8b485b",
   "metadata": {},
   "outputs": [
    {
     "data": {
      "text/plain": [
       "1556"
      ]
     },
     "execution_count": 190,
     "metadata": {},
     "output_type": "execute_result"
    }
   ],
   "source": [
    "len(master[master['test_group'] == 1].groupby([\"transaction_type\"])['sample_id'].value_counts().loc['REBILL'])"
   ]
  },
  {
   "cell_type": "code",
   "execution_count": 189,
   "id": "f0a0bbc9",
   "metadata": {},
   "outputs": [
    {
     "data": {
      "text/plain": [
       "29"
      ]
     },
     "execution_count": 189,
     "metadata": {},
     "output_type": "execute_result"
    }
   ],
   "source": [
    "len(master[master['test_group'] == 1].groupby([\"transaction_type\"])['sample_id'].value_counts().loc['CHARGEBACK'])"
   ]
  },
  {
   "cell_type": "code",
   "execution_count": 188,
   "id": "18339e54",
   "metadata": {},
   "outputs": [
    {
     "data": {
      "text/plain": [
       "58"
      ]
     },
     "execution_count": 188,
     "metadata": {},
     "output_type": "execute_result"
    }
   ],
   "source": [
    "len(master[master['test_group'] == 1].groupby([\"transaction_type\"])['sample_id'].value_counts().loc['REFUND'])"
   ]
  },
  {
   "cell_type": "code",
   "execution_count": null,
   "id": "f1b38d55",
   "metadata": {},
   "outputs": [],
   "source": [
    "#Calculating ratios"
   ]
  },
  {
   "cell_type": "code",
   "execution_count": 193,
   "id": "0f86edf1",
   "metadata": {},
   "outputs": [
    {
     "data": {
      "text/plain": [
       "0.028221512247071354"
      ]
     },
     "execution_count": 193,
     "metadata": {},
     "output_type": "execute_result"
    }
   ],
   "source": [
    "#master['sample_id'].nunique()\n",
    "# master['test_group'].count()\n",
    "# master[master['test_group'] == 0]['transaction_type'].value_counts().loc['REBILL']\n",
    "master[master['test_group'] == 0].groupby([\"transaction_type\"])['sample_id'].count().loc['CHARGEBACK'] / \\\n",
    "master[master['test_group'] == 0].groupby([\"transaction_type\"])['sample_id'].count().loc['REBILL']"
   ]
  },
  {
   "cell_type": "code",
   "execution_count": 199,
   "id": "8cef270a",
   "metadata": {},
   "outputs": [
    {
     "data": {
      "text/plain": [
       "0.05005324813631523"
      ]
     },
     "execution_count": 199,
     "metadata": {},
     "output_type": "execute_result"
    }
   ],
   "source": [
    "master[master['test_group'] == 0].groupby([\"transaction_type\"])['sample_id'].count().loc['REFUND'] / \\\n",
    "master[master['test_group'] == 0].groupby([\"transaction_type\"])['sample_id'].count().loc['REBILL']"
   ]
  },
  {
   "cell_type": "code",
   "execution_count": null,
   "id": "bf578137",
   "metadata": {},
   "outputs": [],
   "source": []
  },
  {
   "cell_type": "code",
   "execution_count": 194,
   "id": "55536fd2",
   "metadata": {},
   "outputs": [
    {
     "data": {
      "text/plain": [
       "0.017784711388455537"
      ]
     },
     "execution_count": 194,
     "metadata": {},
     "output_type": "execute_result"
    }
   ],
   "source": [
    "# master[master['test_group'] == 1]['transaction_type'].value_counts().loc['REBILL']\n",
    "master[master['test_group'] == 1].groupby([\"transaction_type\"])['sample_id'].count().loc['CHARGEBACK'] / \\\n",
    "master[master['test_group'] == 1].groupby([\"transaction_type\"])['sample_id'].count().loc['REBILL']"
   ]
  },
  {
   "cell_type": "code",
   "execution_count": 200,
   "id": "26ad1214",
   "metadata": {},
   "outputs": [
    {
     "data": {
      "text/plain": [
       "0.036817472698907956"
      ]
     },
     "execution_count": 200,
     "metadata": {},
     "output_type": "execute_result"
    }
   ],
   "source": [
    "master[master['test_group'] == 1].groupby([\"transaction_type\"])['sample_id'].count().loc['REFUND'] / \\\n",
    "master[master['test_group'] == 1].groupby([\"transaction_type\"])['sample_id'].count().loc['REBILL']"
   ]
  },
  {
   "cell_type": "code",
   "execution_count": null,
   "id": "373588a9",
   "metadata": {},
   "outputs": [],
   "source": []
  },
  {
   "cell_type": "code",
   "execution_count": 36,
   "id": "9682db9c",
   "metadata": {},
   "outputs": [
    {
     "data": {
      "text/plain": [
       "0.0563230605738576"
      ]
     },
     "execution_count": 36,
     "metadata": {},
     "output_type": "execute_result"
    }
   ],
   "source": [
    "# master[master['test_group']==1]['transaction_type'].value_counts().loc['CHARGEBACK']/ \\\n",
    "# master[master['test_group'] == 1]['transaction_type'].value_counts().loc['REBILL']\n",
    "len(master[master['test_group'] == 0].groupby([\"transaction_type\"])['sample_id'].value_counts().loc['CHARGEBACK'])/ \\\n",
    "len(master[master['test_group'] == 0].groupby([\"transaction_type\"])['sample_id'].value_counts().loc['REBILL'])"
   ]
  },
  {
   "cell_type": "code",
   "execution_count": 195,
   "id": "0f1eeb50",
   "metadata": {},
   "outputs": [
    {
     "data": {
      "text/plain": [
       "0.018637532133676093"
      ]
     },
     "execution_count": 195,
     "metadata": {},
     "output_type": "execute_result"
    }
   ],
   "source": [
    "len(master[master['test_group'] == 1].groupby([\"transaction_type\"])['sample_id'].value_counts().loc['CHARGEBACK'])/ \\\n",
    "len(master[master['test_group'] == 1].groupby([\"transaction_type\"])['sample_id'].value_counts().loc['REBILL'])"
   ]
  },
  {
   "cell_type": "code",
   "execution_count": 180,
   "id": "d2b6176d",
   "metadata": {},
   "outputs": [
    {
     "data": {
      "text/plain": [
       "sample_id\n",
       "37745    8\n",
       "37051    7\n",
       "4446     4\n",
       "37320    4\n",
       "40836    4\n",
       "44438    4\n",
       "19331    3\n",
       "26099    3\n",
       "45149    3\n",
       "48793    3\n",
       "50123    3\n",
       "50349    3\n",
       "53525    3\n",
       "56021    3\n",
       "2713     2\n",
       "15223    2\n",
       "18430    2\n",
       "21596    2\n",
       "21898    2\n",
       "27317    2\n",
       "31763    2\n",
       "34631    2\n",
       "46422    2\n",
       "50202    2\n",
       "50847    2\n",
       "54326    2\n",
       "2035     1\n",
       "2192     1\n",
       "3458     1\n",
       "8106     1\n",
       "9607     1\n",
       "11538    1\n",
       "13030    1\n",
       "13408    1\n",
       "15677    1\n",
       "17352    1\n",
       "21614    1\n",
       "23050    1\n",
       "24982    1\n",
       "25532    1\n",
       "25580    1\n",
       "26361    1\n",
       "26409    1\n",
       "27378    1\n",
       "38325    1\n",
       "38450    1\n",
       "42124    1\n",
       "42413    1\n",
       "47935    1\n",
       "50424    1\n",
       "53423    1\n",
       "53818    1\n",
       "56210    1\n",
       "Name: sample_id, dtype: int64"
      ]
     },
     "execution_count": 180,
     "metadata": {},
     "output_type": "execute_result"
    }
   ],
   "source": [
    "master[master['test_group'] == 0].groupby([\"transaction_type\"])['sample_id'].value_counts().loc['CHARGEBACK']"
   ]
  },
  {
   "cell_type": "code",
   "execution_count": 35,
   "id": "7d89f177",
   "metadata": {},
   "outputs": [
    {
     "data": {
      "text/plain": [
       "0.018637532133676093"
      ]
     },
     "execution_count": 35,
     "metadata": {},
     "output_type": "execute_result"
    }
   ],
   "source": [
    "# master[master['test_group']==0]['transaction_type'].value_counts().loc['CHARGEBACK']/ \\\n",
    "# master[master['test_group'] == 0]['transaction_type'].value_counts().loc['REBILL']\n",
    "len(master[master['test_group'] == 1].groupby([\"transaction_type\"])['sample_id'].value_counts().loc['CHARGEBACK'])/ \\\n",
    "len(master[master['test_group'] == 1].groupby([\"transaction_type\"])['sample_id'].value_counts().loc['REBILL'])"
   ]
  },
  {
   "cell_type": "code",
   "execution_count": 96,
   "id": "adf6f88d",
   "metadata": {},
   "outputs": [
    {
     "data": {
      "text/plain": [
       "test_group\n",
       "0     97359.20\n",
       "1    100869.75\n",
       "Name: transaction_amount, dtype: float64"
      ]
     },
     "execution_count": 96,
     "metadata": {},
     "output_type": "execute_result"
    }
   ],
   "source": [
    "#master\n",
    "master[master['transaction_amount'] > 0].groupby(['test_group'])['transaction_amount'].sum()\n",
    "#master.groupby('sample_id')['transaction_type'].value_counts()"
   ]
  },
  {
   "cell_type": "code",
   "execution_count": 174,
   "id": "677208fd",
   "metadata": {},
   "outputs": [
    {
     "data": {
      "text/plain": [
       "test_group  transaction_amount\n",
       "0           24.95                 1368\n",
       "            32.95                 1199\n",
       "            19.95                 1189\n",
       "1           24.95                 1124\n",
       "            39.95                 1050\n",
       "            29.95                 1031\n",
       "Name: transaction_amount, dtype: int64"
      ]
     },
     "execution_count": 174,
     "metadata": {},
     "output_type": "execute_result"
    }
   ],
   "source": [
    "master[master['transaction_amount'] > 0].groupby(['test_group'])['transaction_amount'].value_counts()"
   ]
  },
  {
   "cell_type": "code",
   "execution_count": 205,
   "id": "d271daef",
   "metadata": {},
   "outputs": [
    {
     "data": {
      "text/plain": [
       "1368"
      ]
     },
     "execution_count": 205,
     "metadata": {},
     "output_type": "execute_result"
    }
   ],
   "source": [
    "master[master['transaction_amount'] > 0].groupby(['test_group'])['transaction_amount'].value_counts().max()"
   ]
  },
  {
   "cell_type": "code",
   "execution_count": 204,
   "id": "8343a390",
   "metadata": {},
   "outputs": [],
   "source": []
  },
  {
   "cell_type": "code",
   "execution_count": 155,
   "id": "2f5ab450",
   "metadata": {},
   "outputs": [
    {
     "data": {
      "text/plain": [
       "test_group\n",
       "0     941\n",
       "1    1556\n",
       "Name: sample_id, dtype: int64"
      ]
     },
     "execution_count": 155,
     "metadata": {},
     "output_type": "execute_result"
    }
   ],
   "source": [
    "master[master['transaction_amount'] > 0].groupby(['test_group'])['sample_id'].nunique()"
   ]
  },
  {
   "cell_type": "code",
   "execution_count": 111,
   "id": "203b2c1b",
   "metadata": {},
   "outputs": [
    {
     "data": {
      "text/plain": [
       "test_group\n",
       "0    3756\n",
       "1    3205\n",
       "Name: transaction_id, dtype: int64"
      ]
     },
     "execution_count": 111,
     "metadata": {},
     "output_type": "execute_result"
    }
   ],
   "source": [
    "master[master['transaction_amount'] > 0].groupby(['test_group'])['transaction_id'].count()"
   ]
  },
  {
   "cell_type": "code",
   "execution_count": 183,
   "id": "aab65fcd",
   "metadata": {},
   "outputs": [
    {
     "data": {
      "text/plain": [
       "test_group\n",
       "0   -7520.30\n",
       "1   -5436.25\n",
       "Name: transaction_amount, dtype: float64"
      ]
     },
     "execution_count": 183,
     "metadata": {},
     "output_type": "execute_result"
    }
   ],
   "source": [
    "master[master['transaction_amount'] < 0].groupby(['test_group'])['transaction_amount'].sum()"
   ]
  },
  {
   "cell_type": "code",
   "execution_count": 175,
   "id": "695f110c",
   "metadata": {},
   "outputs": [
    {
     "data": {
      "text/plain": [
       "test_group  transaction_amount\n",
       "0           -19.95                107\n",
       "            -24.95                 97\n",
       "            -32.95                 90\n",
       "1           -29.95                 64\n",
       "            -24.95                 61\n",
       "            -39.95                 50\n",
       "Name: transaction_amount, dtype: int64"
      ]
     },
     "execution_count": 175,
     "metadata": {},
     "output_type": "execute_result"
    }
   ],
   "source": [
    "master[master['transaction_amount'] < 0].groupby(['test_group'])['transaction_amount'].value_counts()"
   ]
  },
  {
   "cell_type": "code",
   "execution_count": 170,
   "id": "f73bdb2b",
   "metadata": {},
   "outputs": [
    {
     "data": {
      "text/plain": [
       "test_group\n",
       "0    141\n",
       "1     87\n",
       "Name: sample_id, dtype: int64"
      ]
     },
     "execution_count": 170,
     "metadata": {},
     "output_type": "execute_result"
    }
   ],
   "source": [
    "master[master['transaction_amount'] < 0].groupby(['test_group'])['sample_id'].nunique()"
   ]
  },
  {
   "cell_type": "code",
   "execution_count": 172,
   "id": "646917e9",
   "metadata": {},
   "outputs": [
    {
     "data": {
      "text/plain": [
       "test_group\n",
       "0    294\n",
       "1    175\n",
       "Name: transaction_id, dtype: int64"
      ]
     },
     "execution_count": 172,
     "metadata": {},
     "output_type": "execute_result"
    }
   ],
   "source": [
    "master[master['transaction_amount'] < 0].groupby(['test_group'])['transaction_id'].count()"
   ]
  },
  {
   "cell_type": "code",
   "execution_count": 141,
   "id": "164b55a0",
   "metadata": {},
   "outputs": [
    {
     "data": {
      "text/plain": [
       "array([[<AxesSubplot:title={'center':'transaction_amount'}>]],\n",
       "      dtype=object)"
      ]
     },
     "execution_count": 141,
     "metadata": {},
     "output_type": "execute_result"
    },
    {
     "data": {
      "image/png": "[encoded data removed]",
      "text/plain": [
       "<Figure size 864x576 with 1 Axes>"
      ]
     },
     "metadata": {
      "needs_background": "light"
     },
     "output_type": "display_data"
    }
   ],
   "source": [
    "##checking distribution of refunds, chargebacks and rebills\n",
    "master.hist(column='transaction_amount',bins=25, grid=True, figsize=(12,8), color='#87CEFF', zorder=1, rwidth=4)"
   ]
  },
  {
   "cell_type": "code",
   "execution_count": 157,
   "id": "107fe164",
   "metadata": {},
   "outputs": [
    {
     "data": {
      "image/png": "[encoded data removed]",
      "text/plain": [
       "<Figure size 864x576 with 1 Axes>"
      ]
     },
     "metadata": {
      "needs_background": "light"
     },
     "output_type": "display_data"
    }
   ],
   "source": [
    "master.hist(column='transaction_amount',bins=100, grid=True, figsize=(12,8), color='#87CEFF', zorder=0.5, rwidth=2)\n",
    "x1=master.loc[master.transaction_type=='REBILL','transaction_amount']\n",
    "x2=master.loc[master.transaction_type=='REFUND','transaction_amount']\n",
    "x3=master.loc[master.transaction_type=='CHARGEBACK','transaction_amount']\n",
    "kwargs=dict(alpha=1, bins=20)\n",
    "plt.hist(x1, **kwargs, color='g', label='Rebill')\n",
    "plt.hist(x2, **kwargs, color='m', label='Refund')\n",
    "plt.hist(x3, **kwargs, color='r', label='Chargeback')\n",
    "plt.gca().set(title='Frequency Histogram of Transaction Types', ylabel='Frequency')\n",
    "#plt.ylim(0,2500)\n",
    "plt.xlim(-50,50)\n",
    "plt.legend();"
   ]
  },
  {
   "cell_type": "markdown",
   "id": "6e01893a",
   "metadata": {},
   "source": [
    "##### Questions & Answers\n",
    "##### 1. What is the approximate probability distribution between the test group and the control group\n",
    "Initially, from the table 'testSamples.csv', we get a 75/25. Meaning you are more likely pick a person from the control group than the test group. Three quarters (3/4) of the population is in the control group and one quarter (1/4) in the test group. \n",
    "\n",
    "After analyzing table transData.csv, the distribution is inverted and now we have a 40/60 split, meaning two fifths (2/5) of the population from the control group and three fifths (3/5) in the test group. The whole dataset 7430 entries correspond to 2714 unique subscribers with multiple transactions, which represents 4% of the total sample involved in the test. The control group with provided transactions represents 2.4% of the original control group and the test group with transactions is about 11% of the original sample population.\n",
    "\n",
    "##### 2. Is a user that must call-in to cancel more likely to generate at least 1 additional REBILL\n",
    "\n",
    "No, but if we could find more information about both groups, will this change? \n",
    "\n",
    "From my observations, the Control group (0) with 941 subscribers generated 3756 positive transactions for a total of 97359.20 in REBILLS. 141 subscribers who left, translated into 294  cancellations for a total of -7520.30, (REFUNDS and CHARGEBACKS together). \n",
    "\n",
    "The must call-in or Test group (1), on the other hand, with 1556 subscribers, generated 100869.75 from 3205 REBILLS. 87 subscribers cancelled, generated 175 negative transactions for a total of -5436.25. The test group did not generate more rebills but it did not generate more refunds or chargebacks.\n",
    "\n",
    "The control group offers more positive transactions with less subscribers, but the ones that called-in generated more revenue.\n",
    "     \n",
    "\n",
    "##### 3. Is a user that must call-in to cancel more likely to generate more revenues?\n",
    "\n",
    "According to the information provided, that seems to be the case. The test group generated more revenue with less transactions thanks to more subscriptions of 39.95. The control group had more 19.95 subscriptions. Furthermore, those who must call recorded less cancellations.\n",
    "\n",
    "##### 4. Is a user that must call-in more likely to produce a higher chargeback rate (CHARGEBACKs/REBILLs)?\n",
    "\n",
    "This is a great question because it exposes the great power of ratios and the relationships you can find in the data.  The plain answer is no, according to the ratios calculated above; Control shows 0.0563 versus Test with 0.0186. Meaning that, by creation a situation where the customer must call, the chargebacks are lower.\n",
    "\n",
    "This is only considering unique clients (unique sample_id) but when you consider the aggregation behind each transaction you get a slightly different result.\n",
    "\n",
    "When considering duplicates in the transactions, Control group rate goes down 0.0282 and Test group remains almost unchanged 0.0177. I interpret this change as an increase of chargebacks in the control group but a more consistent trend in the test group reflects that it reduces the trend of cancellations or at the very least it does not generate the opposite of the intended effect.    \n",
    "\n",
    "##### Suggestions and additional questions\n",
    "- To draw better conclusions, I would analyze the transactions for the whole sample.\n",
    "\n",
    "- I would request additional biometric information for client segmentation analysis and I would also include date/time information to analyze seasonality.\n",
    "\n",
    "- It would also be interesting to know the web interactions to determine what other KPI's can help understand the client and offer other solutions.\n",
    "\n",
    "- It would help to know the different characteristics of each subscription and the expectations of each subscriber. It seems like there are 5 different types of subscription, would the company benefit if they had less types of subscriptions?\n",
    "\n",
    "- I would like to know the design of the script for those who had to call and check if there was a survey for those who left and perform a sentiment analysis. \n",
    "\n",
    "- For those who remained subscribed, were they offered an upgrade or any other type of deal? where is the value placed? subscribers in the control group preferred the 19.95 by majority, why? Interesting question to answer when mora data is available. "
   ]
  },
  {
   "cell_type": "code",
   "execution_count": null,
   "id": "5ea1410c",
   "metadata": {},
   "outputs": [],
   "source": []
  }
 ],
 "metadata": {
  "celltoolbar": "Raw Cell Format",
  "kernelspec": {
   "display_name": "Python 3 (ipykernel)",
   "language": "python",
   "name": "python3"
  },
  "language_info": {
   "codemirror_mode": {
    "name": "ipython",
    "version": 3
   },
   "file_extension": ".py",
   "mimetype": "text/x-python",
   "name": "python",
   "nbconvert_exporter": "python",
   "pygments_lexer": "ipython3",
   "version": "3.9.7"
  }
 },
 "nbformat": 4,
 "nbformat_minor": 5
}
